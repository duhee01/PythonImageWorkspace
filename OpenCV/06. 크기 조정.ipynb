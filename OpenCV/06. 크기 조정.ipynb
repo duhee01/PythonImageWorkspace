{
 "cells": [
  {
   "cell_type": "markdown",
   "id": "03e84bee",
   "metadata": {},
   "source": [
    "# 6. 크기 조정 "
   ]
  },
  {
   "cell_type": "markdown",
   "id": "07798653",
   "metadata": {},
   "source": [
    "## 이미지 "
   ]
  },
  {
   "cell_type": "markdown",
   "id": "4ba3f1c2",
   "metadata": {},
   "source": [
    "### 고정 크기로 설정"
   ]
  },
  {
   "cell_type": "code",
   "execution_count": 1,
   "id": "c3494b62",
   "metadata": {},
   "outputs": [],
   "source": [
    "import cv2\n",
    "img = cv2.imread('img.jpg')\n",
    "dst = cv2.resize(img, (400,500))  #width, height 고정 크기\n",
    "\n",
    "cv2.imshow('img',img)\n",
    "cv2.imshow('resize', dst)\n",
    "cv2.waitKey(0)\n",
    "cv2.destroyAllWindows()"
   ]
  },
  {
   "cell_type": "markdown",
   "id": "7b9c9bb4",
   "metadata": {},
   "source": [
    "###  비율로 설정"
   ]
  },
  {
   "cell_type": "code",
   "execution_count": 3,
   "id": "7b2a2a8c",
   "metadata": {},
   "outputs": [],
   "source": [
    "import cv2\n",
    "img = cv2.imread('img.jpg')\n",
    "dst = cv2.resize(img, None, fx = 0.5, fy = 0.5)  #x, y 비율 정의(0.5 배로->축소됨)\n",
    "#2번째 값을 None으로 설정하여 비율로 설정함.\n",
    "\n",
    "cv2.imshow('img',img)\n",
    "cv2.imshow('resize', dst)\n",
    "cv2.waitKey(0)\n",
    "cv2.destroyAllWindows()"
   ]
  },
  {
   "cell_type": "markdown",
   "id": "45eca7fb",
   "metadata": {},
   "source": [
    "### 보간법\n",
    "1. cv2.INTER_AREA : 크기 줄일 때 사용\n",
    "1. cv2.INTER_CUBIC : 크기 늘릴 때 사용(속도 느림, 퀄리티 좋음)\n",
    "1. cv2.INTER_LINEAR : 크기 늘릴 때 사용(기본 값)"
   ]
  },
  {
   "cell_type": "markdown",
   "id": "a9b0131a",
   "metadata": {},
   "source": [
    "#### 보간법 적용하여 축소 "
   ]
  },
  {
   "cell_type": "code",
   "execution_count": 7,
   "id": "e0e7e257",
   "metadata": {},
   "outputs": [],
   "source": [
    "import cv2\n",
    "img = cv2.imread('img.jpg')\n",
    "dst = cv2.resize(img, None, fx = 0.5, fy = 0.5, interpolation = cv2.INTER_AREA)  #x, y 비율 정의(0.5 배로->축소됨)\n",
    "#2번째 값을 None으로 설정하여 비율로 설정함.\n",
    "\n",
    "cv2.imshow('img',img)\n",
    "cv2.imshow('resize', dst)\n",
    "cv2.waitKey(0)\n",
    "cv2.destroyAllWindows()"
   ]
  },
  {
   "cell_type": "markdown",
   "id": "6b8fb09c",
   "metadata": {},
   "source": [
    "#### 보간법 적용하여 확대"
   ]
  },
  {
   "cell_type": "code",
   "execution_count": 8,
   "id": "48388f22",
   "metadata": {},
   "outputs": [],
   "source": [
    "import cv2\n",
    "img = cv2.imread('img.jpg')\n",
    "dst = cv2.resize(img, None, fx = 0.5, fy = 0.5, interpolation = cv2.INTER_CUBIC)  #x, y 비율 정의(0.5 배로->축소됨)\n",
    "#2번째 값을 None으로 설정하여 비율로 설정함.\n",
    "\n",
    "cv2.imshow('img',img)\n",
    "cv2.imshow('resize', dst)\n",
    "cv2.waitKey(0)\n",
    "cv2.destroyAllWindows()"
   ]
  },
  {
   "cell_type": "markdown",
   "id": "d79a115a",
   "metadata": {},
   "source": [
    "## 동영상"
   ]
  },
  {
   "cell_type": "markdown",
   "id": "73f7c670",
   "metadata": {},
   "source": [
    "### 고정 크기로 설정 "
   ]
  },
  {
   "cell_type": "code",
   "execution_count": 13,
   "id": "0c9be161",
   "metadata": {},
   "outputs": [],
   "source": [
    "import cv2\n",
    "cap = cv2.VideoCapture('video.mp4') \n",
    "\n",
    "\n",
    "while cap.isOpened():\n",
    "    ret, frame = cap.read()\n",
    "    if not ret:\n",
    "        break\n",
    "    \n",
    "    frame_resized = cv2.resize(frame, (300,500))\n",
    "\n",
    "    cv2.imshow('video', frame_resized)\n",
    "    if cv2.waitKey(1) == ord('q'):\n",
    "        break\n",
    "        \n",
    "cap.release()\n",
    "cv2.destroyAllWindows()"
   ]
  },
  {
   "cell_type": "markdown",
   "id": "7d5e0681",
   "metadata": {},
   "source": [
    "### 비율로 설정 "
   ]
  },
  {
   "cell_type": "code",
   "execution_count": 15,
   "id": "9f5f5611",
   "metadata": {},
   "outputs": [],
   "source": [
    "import cv2\n",
    "cap = cv2.VideoCapture('video.mp4') \n",
    "\n",
    "\n",
    "while cap.isOpened():\n",
    "    ret, frame = cap.read()\n",
    "    if not ret:\n",
    "        break\n",
    "    \n",
    "    frame_resized = cv2.resize(frame, None, fx = 1.5, fy = 1.5, interpolation= cv2.INTER_CUBIC)\n",
    "    #동영상을 1.5배 늘림\n",
    "\n",
    "    cv2.imshow('video', frame_resized)\n",
    "    if cv2.waitKey(1) == ord('q'):\n",
    "        break\n",
    "        \n",
    "cap.release()\n",
    "cv2.destroyAllWindows()"
   ]
  }
 ],
 "metadata": {
  "kernelspec": {
   "display_name": "Python 3",
   "language": "python",
   "name": "python3"
  },
  "language_info": {
   "codemirror_mode": {
    "name": "ipython",
    "version": 3
   },
   "file_extension": ".py",
   "mimetype": "text/x-python",
   "name": "python",
   "nbconvert_exporter": "python",
   "pygments_lexer": "ipython3",
   "version": "3.8.8"
  }
 },
 "nbformat": 4,
 "nbformat_minor": 5
}

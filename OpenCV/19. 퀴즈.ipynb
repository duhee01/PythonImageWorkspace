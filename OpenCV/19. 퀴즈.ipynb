{
 "cells": [
  {
   "cell_type": "markdown",
   "id": "994c59e7",
   "metadata": {},
   "source": [
    "# 퀴즈"
   ]
  },
  {
   "cell_type": "markdown",
   "id": "4697763c",
   "metadata": {},
   "source": [
    "### opencv를 이용하여 가로로 촬영된 영상을 세로로 회전하는 프로그램을 작성하시오.\n"
   ]
  },
  {
   "cell_type": "markdown",
   "id": "099dfbc5",
   "metadata": {},
   "source": [
    "#### 조건\n",
    "1. 회전 : 시계 반대 방향으로 90도\n",
    "2. 재생 속도(FPS) : 원본 4배\n",
    "3. 출력 파일명 : city_output.avi(코덱 : DIVX)\n",
    "\n",
    "- 원본 파일명 : city.mp4"
   ]
  },
  {
   "cell_type": "code",
   "execution_count": 6,
   "id": "d5fd5f5f",
   "metadata": {},
   "outputs": [
    {
     "name": "stdout",
     "output_type": "stream",
     "text": [
      "더 이상 가져올 프레임이 없습니다.\n"
     ]
    }
   ],
   "source": [
    "import cv2\n",
    "\n",
    "cap = cv2.VideoCapture('city.mp4')\n",
    "fourcc = cv2.VideoWriter_fourcc(*'DIVX') #코덱 정의\n",
    "\n",
    "width = round(cap.get(cv2.CAP_PROP_FRAME_WIDTH))\n",
    "height = round(cap.get(cv2.CAP_PROP_FRAME_HEIGHT))\n",
    "\n",
    "fps = cap.get(cv2.CAP_PROP_FPS )\n",
    "out = cv2.VideoWriter('city_output.avi', fourcc, fps * 4, (height, width))\n",
    "\n",
    "while cap.isOpened():\n",
    "    ret, frame = cap.read()\n",
    "    if not ret:\n",
    "        print('더 이상 가져올 프레임이 없습니다.')\n",
    "        break\n",
    "        \n",
    "    rotate_frame= cv2.rotate(frame, cv2.ROTATE_90_COUNTERCLOCKWISE)\n",
    "    out.write(rotate_frame)\n",
    "    cv2.imshow('city', frame)\n",
    "    if cv2.waitKey(1) == ord('q'):\n",
    "        break\n",
    "        \n",
    "        \n",
    "cap.release()\n",
    "out.release()  \n",
    "cv2.destroyAllWindows()"
   ]
  }
 ],
 "metadata": {
  "kernelspec": {
   "display_name": "Python 3",
   "language": "python",
   "name": "python3"
  },
  "language_info": {
   "codemirror_mode": {
    "name": "ipython",
    "version": 3
   },
   "file_extension": ".py",
   "mimetype": "text/x-python",
   "name": "python",
   "nbconvert_exporter": "python",
   "pygments_lexer": "ipython3",
   "version": "3.8.8"
  }
 },
 "nbformat": 4,
 "nbformat_minor": 5
}

{
 "cells": [
  {
   "cell_type": "markdown",
   "id": "14acecd8",
   "metadata": {},
   "source": [
    "# 5. 파일 저장"
   ]
  },
  {
   "cell_type": "markdown",
   "id": "d19804d8",
   "metadata": {},
   "source": [
    "## 이미지 저장 "
   ]
  },
  {
   "cell_type": "code",
   "execution_count": 3,
   "id": "cb4f97aa",
   "metadata": {},
   "outputs": [
    {
     "name": "stdout",
     "output_type": "stream",
     "text": [
      "True\n"
     ]
    }
   ],
   "source": [
    "import cv2\n",
    "img = cv2.imread('img.jpg', cv2.IMREAD_GRAYSCALE) #흑백으로 이미지 불러오기\n",
    "cv2.imshow('img',img)\n",
    "cv2.waitKey(0)\n",
    "cv2.destroyAllWindows()\n",
    "\n",
    "#파일 저장하기\n",
    "result = cv2.imwrite('img_save.jpg', img)\n",
    "print(result)"
   ]
  },
  {
   "cell_type": "markdown",
   "id": "de084519",
   "metadata": {},
   "source": [
    "## 저장 포맷(jpg, png) "
   ]
  },
  {
   "cell_type": "code",
   "execution_count": 7,
   "id": "481de973",
   "metadata": {},
   "outputs": [
    {
     "data": {
      "text/plain": [
       "True"
      ]
     },
     "execution_count": 7,
     "metadata": {},
     "output_type": "execute_result"
    }
   ],
   "source": [
    "import cv2\n",
    "img = cv2.imread('img.jpg', cv2.IMREAD_GRAYSCALE) #흑백으로 이미지 불러오기\n",
    "#파일 저장하기\n",
    "cv2.imwrite('img_save.png', img)"
   ]
  },
  {
   "cell_type": "markdown",
   "id": "6f6d33a2",
   "metadata": {},
   "source": [
    "## 동영상 저장 "
   ]
  },
  {
   "cell_type": "code",
   "execution_count": 11,
   "id": "fecb430a",
   "metadata": {},
   "outputs": [],
   "source": [
    "import cv2\n",
    "cap = cv2.VideoCapture('video.mp4')\n",
    "# 코덱 정의\n",
    "fourcc = cv2.VideoWriter_fourcc(*'DIVX')\n",
    "\n",
    "#프레임의 크기, FPS 지정\n",
    "width = round(cap.get(cv2.CAP_PROP_FRAME_WIDTH)) #round 반올림,  영상의 width값가져옴(round를 통해 정수로)\n",
    "height = round(cap.get(cv2.CAP_PROP_FRAME_HEIGHT))\n",
    "fps = cap.get(cv2.CAP_PROP_FPS) #영상의 재생속도 정보( * 2를 해주면 재생속도가 빨라짐)\n",
    "\n",
    "#각 옵션 \n",
    "out = cv2.VideoWriter('output.avi', fourcc, fps, (width, height))\n",
    "#저장 파일명, 코덱, FPS, 크기\n",
    "\n",
    "while cap.isOpened():\n",
    "    ret, frame = cap.read()\n",
    "    if not ret:\n",
    "        break\n",
    "    out.write(frame)  #영상 데이터만 저장(소리는 따로X)\n",
    "    cv2.imshow('video', frame)\n",
    "    if cv2.waitKey(1) == ord('q'):\n",
    "        break\n",
    "        \n",
    "        \n",
    "cap.release()  #자원 해제\n",
    "out.release()  \n",
    "cv2.destroyAllWindows()"
   ]
  },
  {
   "cell_type": "code",
   "execution_count": 9,
   "id": "7202cc51",
   "metadata": {},
   "outputs": [
    {
     "name": "stdout",
     "output_type": "stream",
     "text": [
      "DIVX\n",
      "D I V X\n",
      "['DIVX']\n",
      "['D', 'I', 'V', 'X']\n"
     ]
    }
   ],
   "source": [
    "#코덱 정의할때 참고\n",
    "codec = 'DIVX'\n",
    "print(codec)\n",
    "print(*codec)\n",
    "print([codec])\n",
    "print([*codec])"
   ]
  }
 ],
 "metadata": {
  "kernelspec": {
   "display_name": "Python 3",
   "language": "python",
   "name": "python3"
  },
  "language_info": {
   "codemirror_mode": {
    "name": "ipython",
    "version": 3
   },
   "file_extension": ".py",
   "mimetype": "text/x-python",
   "name": "python",
   "nbconvert_exporter": "python",
   "pygments_lexer": "ipython3",
   "version": "3.8.8"
  }
 },
 "nbformat": 4,
 "nbformat_minor": 5
}

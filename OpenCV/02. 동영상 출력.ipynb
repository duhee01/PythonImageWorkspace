{
 "cells": [
  {
   "cell_type": "markdown",
   "id": "e9675a8d",
   "metadata": {},
   "source": [
    "# 2. 동영상 출력"
   ]
  },
  {
   "cell_type": "markdown",
   "id": "629d188f",
   "metadata": {},
   "source": [
    "### 동영상 파일 출력"
   ]
  },
  {
   "cell_type": "code",
   "execution_count": 6,
   "id": "f61679a6",
   "metadata": {},
   "outputs": [
    {
     "name": "stdout",
     "output_type": "stream",
     "text": [
      "더 이상 가져올 프레임이 없습니다.\n"
     ]
    }
   ],
   "source": [
    "import cv2\n",
    "cap = cv2.VideoCapture('video.mp4') \n",
    "#(반복적으로 프레임 가져오기)\n",
    "while cap.isOpened(): #동영상파일이 올바로 열렸는지 확인.\n",
    "    ret, frame = cap.read() # ret : 성공 여부, frame : 받아온 이미지. cap.read : 앞의 두개의 값을 반환\n",
    "    if not ret:\n",
    "        print('더 이상 가져올 프레임이 없습니다.')\n",
    "        break\n",
    "    cv2.imshow('video',frame)\n",
    "    if cv2.waitKey(25) == ord('q'):    #ord = 키 값 비교하기위한 함수, key값을 늘릴지, 줄일지에따라 속도가 달라짐.\n",
    "        print(\"사용자 입력에 의해 종료합니다\")\n",
    "        break\n",
    "\n",
    "cap.release()  #더이상 영상이 필요 없으니 자원 해제해줌.\n",
    "cv2.destroyAllWindows()  #모든 창 닫기"
   ]
  },
  {
   "cell_type": "markdown",
   "id": "8f3c4d09",
   "metadata": {},
   "source": [
    "### 카메라 출력 "
   ]
  },
  {
   "cell_type": "code",
   "execution_count": 8,
   "id": "a6141bed",
   "metadata": {},
   "outputs": [
    {
     "name": "stdout",
     "output_type": "stream",
     "text": [
      "사용자에 의해 종료되었습니다.\n"
     ]
    }
   ],
   "source": [
    "import cv2\n",
    "cap = cv2.VideoCapture(0)  #0번째 카메라 장치 (Devicd ID)\n",
    "\n",
    "if not cap.isOpened():   #카메라가 잘 열리지 않은 경우\n",
    "    exit() #프로그램 종료\n",
    "\n",
    "while True: #무한 반복\n",
    "    ret, frame = cap.read()\n",
    "    if not ret:\n",
    "        break\n",
    "    \n",
    "    cv2.imshow('camera',frame)\n",
    "    if cv2.waitKey(1) == ord('q'):  #사용자가 q를 입력하면\n",
    "        print(\"사용자에 의해 종료되었습니다.\")\n",
    "        break\n",
    "\n",
    "cap.release()\n",
    "cv2.destroyAllWindows()\n"
   ]
  },
  {
   "cell_type": "code",
   "execution_count": null,
   "id": "a81b5c9d",
   "metadata": {},
   "outputs": [],
   "source": []
  },
  {
   "cell_type": "code",
   "execution_count": null,
   "id": "04f9c7c4",
   "metadata": {},
   "outputs": [],
   "source": []
  }
 ],
 "metadata": {
  "kernelspec": {
   "display_name": "Python 3",
   "language": "python",
   "name": "python3"
  },
  "language_info": {
   "codemirror_mode": {
    "name": "ipython",
    "version": 3
   },
   "file_extension": ".py",
   "mimetype": "text/x-python",
   "name": "python",
   "nbconvert_exporter": "python",
   "pygments_lexer": "ipython3",
   "version": "3.8.8"
  }
 },
 "nbformat": 4,
 "nbformat_minor": 5
}

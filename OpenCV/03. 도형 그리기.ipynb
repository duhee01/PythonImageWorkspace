{
 "cells": [
  {
   "cell_type": "markdown",
   "id": "8704de1b",
   "metadata": {},
   "source": [
    "# 3. 도형 그리기 "
   ]
  },
  {
   "cell_type": "markdown",
   "id": "73acf5b3",
   "metadata": {},
   "source": [
    "## 빈 스케치북 만들기 "
   ]
  },
  {
   "cell_type": "code",
   "execution_count": 14,
   "id": "e3010937",
   "metadata": {},
   "outputs": [],
   "source": [
    "import cv2\n",
    "import numpy as np\n",
    "\n",
    "#세로 480 x 가로 640, 3 Channel(RGB) 에 해당하는 스케치북 만들기\n",
    "img = np.zeros((480,640,3), dtype = np.uint8)  #zeros - > 0 으로 공간을 채워라\n",
    "img[:]= ( 255, 255, 255) #RGB 값을 최대로 해서 전체 공간을 모두 흰색으로 채우기\n",
    "\n",
    "#print(img)\n",
    "cv2.imshow('img',img)\n",
    "cv2.waitKey(0)\n",
    "cv2.destroyAllWindows()"
   ]
  },
  {
   "cell_type": "markdown",
   "id": "b1ac265b",
   "metadata": {},
   "source": [
    "## 일부 영역 색칠 "
   ]
  },
  {
   "cell_type": "code",
   "execution_count": 17,
   "id": "b1152990",
   "metadata": {},
   "outputs": [],
   "source": [
    "import cv2\n",
    "import numpy as np\n",
    "\n",
    "img = np.zeros((480,640,3), dtype = np.uint8)\n",
    "img[100:200, 200:300]= (255,255,255)     #세로부분에서는 100~200, 가로는 200~300까지부분을 채워줌\n",
    "#[세로영역, 가로영역]\n",
    "\n",
    "cv2.imshow('img',img)\n",
    "cv2.waitKey(0)\n",
    "cv2.destroyAllWindows()"
   ]
  },
  {
   "cell_type": "code",
   "execution_count": null,
   "id": "6a66a81a",
   "metadata": {},
   "outputs": [],
   "source": []
  },
  {
   "cell_type": "code",
   "execution_count": null,
   "id": "e92bfb08",
   "metadata": {},
   "outputs": [],
   "source": []
  }
 ],
 "metadata": {
  "kernelspec": {
   "display_name": "Python 3",
   "language": "python",
   "name": "python3"
  },
  "language_info": {
   "codemirror_mode": {
    "name": "ipython",
    "version": 3
   },
   "file_extension": ".py",
   "mimetype": "text/x-python",
   "name": "python",
   "nbconvert_exporter": "python",
   "pygments_lexer": "ipython3",
   "version": "3.8.8"
  }
 },
 "nbformat": 4,
 "nbformat_minor": 5
}

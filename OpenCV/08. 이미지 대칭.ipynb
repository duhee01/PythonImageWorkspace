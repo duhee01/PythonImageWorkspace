{
 "cells": [
  {
   "cell_type": "markdown",
   "id": "f969d12f",
   "metadata": {},
   "source": [
    "# 8. 이미지 대칭"
   ]
  },
  {
   "cell_type": "markdown",
   "id": "f600498e",
   "metadata": {},
   "source": [
    "### 좌우 대칭 "
   ]
  },
  {
   "cell_type": "code",
   "execution_count": 1,
   "id": "9ba35851",
   "metadata": {},
   "outputs": [],
   "source": [
    "import cv2\n",
    "img = cv2.imread('img.jpg')\n",
    "flip_horizontal = cv2.flip(img, 1) #1은 좌우대칭 \n",
    "#filpCode > 0 : 좌우대칭 Horiszontal\n",
    "\n",
    "cv2.imshow('img',img)\n",
    "cv2.imshow('flip_horizontal',flip_horizontal)\n",
    "cv2.waitKey(0)\n",
    "cv2.destroyAllWindows()\n"
   ]
  },
  {
   "cell_type": "markdown",
   "id": "bc55f242",
   "metadata": {},
   "source": [
    "## 상하 대칭 "
   ]
  },
  {
   "cell_type": "code",
   "execution_count": 2,
   "id": "c8127c50",
   "metadata": {},
   "outputs": [],
   "source": [
    "import cv2\n",
    "img = cv2.imread('img.jpg')\n",
    "flip_vertical = cv2.flip(img, 0) \n",
    "#filpCode = 0 : 상하대칭 Vertical\n",
    "\n",
    "cv2.imshow('img',img)\n",
    "cv2.imshow('flip_vertical',flip_vertical)\n",
    "cv2.waitKey(0)\n",
    "cv2.destroyAllWindows()\n"
   ]
  },
  {
   "cell_type": "markdown",
   "id": "abb3672a",
   "metadata": {},
   "source": [
    "## 상하좌우 대칭 "
   ]
  },
  {
   "cell_type": "code",
   "execution_count": 3,
   "id": "78b4d3bb",
   "metadata": {},
   "outputs": [],
   "source": [
    "import cv2\n",
    "img = cv2.imread('img.jpg')\n",
    "flip_both = cv2.flip(img, -1) \n",
    "#filpCode < 0 : 상하좌우 대칭 Both\n",
    "\n",
    "cv2.imshow('img',img)\n",
    "cv2.imshow('flip_both',flip_both)\n",
    "cv2.waitKey(0)\n",
    "cv2.destroyAllWindows()\n"
   ]
  }
 ],
 "metadata": {
  "kernelspec": {
   "display_name": "Python 3",
   "language": "python",
   "name": "python3"
  },
  "language_info": {
   "codemirror_mode": {
    "name": "ipython",
    "version": 3
   },
   "file_extension": ".py",
   "mimetype": "text/x-python",
   "name": "python",
   "nbconvert_exporter": "python",
   "pygments_lexer": "ipython3",
   "version": "3.8.8"
  }
 },
 "nbformat": 4,
 "nbformat_minor": 5
}

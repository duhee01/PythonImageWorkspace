{
 "cells": [
  {
   "cell_type": "markdown",
   "id": "3cbcc3ae",
   "metadata": {},
   "source": [
    "# 11. 이미지 변형(흐림) "
   ]
  },
  {
   "cell_type": "markdown",
   "id": "8a9a18dd",
   "metadata": {},
   "source": [
    "## 가우시안 블러 "
   ]
  },
  {
   "cell_type": "markdown",
   "id": "b9e4d8c5",
   "metadata": {},
   "source": [
    "커널 사이즈 변화에 따른 흐림"
   ]
  },
  {
   "cell_type": "code",
   "execution_count": 2,
   "id": "ec0c6136",
   "metadata": {},
   "outputs": [],
   "source": [
    "import cv2\n",
    "img = cv2.imread('img.jpg')\n",
    "\n",
    "#kernel_size는 (3,3) (5,5) (7,7) 홀수로 지정해야함.\n",
    "kernel_3 = cv2.GaussianBlur(img, (3, 3), 0) \n",
    "kernel_5 = cv2.GaussianBlur(img,(5,5),0)\n",
    "kernel_7 = cv2.GaussianBlur(img,(7,7),0)\n",
    "\n",
    "\n",
    "cv2.imshow('img',img)\n",
    "cv2.imshow('kernel_3',kernel_3)\n",
    "cv2.imshow('kernel_5',kernel_5)\n",
    "cv2.imshow('kernel_7',kernel_7)\n",
    "cv2.waitKey(0)\n",
    "cv2.destroyAllWindows()"
   ]
  },
  {
   "cell_type": "markdown",
   "id": "8dc063e3",
   "metadata": {},
   "source": [
    "표준 편차 변화에 따른 흐림"
   ]
  },
  {
   "cell_type": "code",
   "execution_count": 3,
   "id": "6e60f3de",
   "metadata": {},
   "outputs": [],
   "source": [
    "import cv2\n",
    "img = cv2.imread('img.jpg')\n",
    "\n",
    "\n",
    "sigma_1 = cv2.GaussianBlur(img, (0, 0), 1)  #sigmaX - 가우시안 커널의 x방향의 표준편차값\n",
    "sigma_2 = cv2.GaussianBlur(img,(0, 0), 2)\n",
    "sigma_3 = cv2.GaussianBlur(img,(0, 0), 3)\n",
    "\n",
    "#표준편차로 바꿨을 때 더 흐린걸 볼 수 있음\n",
    "\n",
    "cv2.imshow('img',img)\n",
    "cv2.imshow('sigma_1',sigma_1)\n",
    "cv2.imshow('sigma_2',sigma_2)\n",
    "cv2.imshow('sigma_3',sigma_3)\n",
    "cv2.waitKey(0)\n",
    "cv2.destroyAllWindows()"
   ]
  }
 ],
 "metadata": {
  "kernelspec": {
   "display_name": "Python 3",
   "language": "python",
   "name": "python3"
  },
  "language_info": {
   "codemirror_mode": {
    "name": "ipython",
    "version": 3
   },
   "file_extension": ".py",
   "mimetype": "text/x-python",
   "name": "python",
   "nbconvert_exporter": "python",
   "pygments_lexer": "ipython3",
   "version": "3.8.8"
  }
 },
 "nbformat": 4,
 "nbformat_minor": 5
}

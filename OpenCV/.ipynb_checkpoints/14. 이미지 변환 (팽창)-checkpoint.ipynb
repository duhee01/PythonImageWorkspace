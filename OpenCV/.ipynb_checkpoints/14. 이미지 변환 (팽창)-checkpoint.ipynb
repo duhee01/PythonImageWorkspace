{
 "cells": [
  {
   "cell_type": "markdown",
   "id": "13805af6",
   "metadata": {},
   "source": [
    "# 14. 이미지 변환 (팽창) "
   ]
  },
  {
   "cell_type": "markdown",
   "id": "ef6b008e",
   "metadata": {},
   "source": [
    "## 이미지를 확장하여 작은 구멍을 채움 "
   ]
  },
  {
   "cell_type": "markdown",
   "id": "6b512840",
   "metadata": {},
   "source": [
    "#### 흰색 영역의 외곽 픽셀 주변에 흰색을 추가"
   ]
  },
  {
   "cell_type": "code",
   "execution_count": 7,
   "id": "497a1549",
   "metadata": {},
   "outputs": [],
   "source": [
    "import cv2\n",
    "import numpy as np\n",
    "\n",
    "kernel = np.ones((3,3) , dtype= np.uint8)\n",
    "#ones를 사용하여 3x3크기만큼의 array를 만들고 모두 1로 채워줌.\n",
    "#kernel\n",
    "\n",
    "img = cv2.imread('dilate.png', cv2.IMREAD_GRAYSCALE)\n",
    "\n",
    "dilate1 = cv2.dilate(img, kernel, iterations = 1) #반복 횟수\n",
    "dilate2 = cv2.dilate(img, kernel, iterations = 2) #반복 횟수\n",
    "dilate3 = cv2.dilate(img, kernel, iterations = 3) #반복 횟수\n",
    "\n",
    "cv2.imshow('gray',img)\n",
    "cv2.imshow('dilate1',dilate1)\n",
    "cv2.imshow('dilate2',dilate2)\n",
    "cv2.imshow('dilate3',dilate3)\n",
    "#이미지를 팽창시키면서 흰색 글자 이미지를 키워나감. -> 글자안 검은 점이 점점 삭제됨\n",
    "#각 이미지 외곽을 따서 팽창해서\n",
    "\n",
    "cv2.waitKey(0)\n",
    "cv2.destroyAllWindows()"
   ]
  }
 ],
 "metadata": {
  "kernelspec": {
   "display_name": "Python 3",
   "language": "python",
   "name": "python3"
  },
  "language_info": {
   "codemirror_mode": {
    "name": "ipython",
    "version": 3
   },
   "file_extension": ".py",
   "mimetype": "text/x-python",
   "name": "python",
   "nbconvert_exporter": "python",
   "pygments_lexer": "ipython3",
   "version": "3.8.8"
  }
 },
 "nbformat": 4,
 "nbformat_minor": 5
}

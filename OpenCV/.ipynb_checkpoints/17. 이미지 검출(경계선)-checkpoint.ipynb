{
 "cells": [
  {
   "cell_type": "markdown",
   "id": "75b8007e",
   "metadata": {},
   "source": [
    "# 17. 이미지 검출(경계선) "
   ]
  },
  {
   "cell_type": "markdown",
   "id": "a0988922",
   "metadata": {},
   "source": [
    "## Canny Edge Detection "
   ]
  },
  {
   "cell_type": "markdown",
   "id": "af270907",
   "metadata": {},
   "source": [
    "색깔이 급격히 바뀌는 부분을 경계선으로 인식함. \n",
    "컴퓨터도 픽셀에서 색깔이 확 바뀌는 부분을 경계선으로 검출함."
   ]
  },
  {
   "cell_type": "code",
   "execution_count": 2,
   "id": "957ab4b3",
   "metadata": {},
   "outputs": [],
   "source": [
    "import cv2\n",
    "img = cv2.imread('snowman.png')\n",
    "\n",
    "canny = cv2.Canny(img,150, 200)\n",
    "#대상 이미지, minValue(하위 임계값), MaxValue(상위 임계값) -> 픽셀 임계값이 200보다 크면 경계선으로 검출. 150이하면 경계선 고려x\n",
    "\n",
    "cv2.imshow('img',img)\n",
    "cv2.imshow('canny',canny)\n",
    "cv2.waitKey(0)\n",
    "cv2.destroyAllWindows()"
   ]
  },
  {
   "cell_type": "code",
   "execution_count": 1,
   "id": "05de1af7",
   "metadata": {},
   "outputs": [],
   "source": [
    "import cv2\n",
    "\n",
    "def empty(pos):\n",
    "    pass\n",
    "\n",
    "\n",
    "img = cv2.imread('snowman.png')\n",
    "\n",
    "name = 'Trackbar'\n",
    "cv2.namedWindow(name)\n",
    "cv2.createTrackbar('threshold1', name, 0, 255, empty) #minVal\n",
    "cv2.createTrackbar('threshold2', name, 0, 255, empty) #maxVal\n",
    "\n",
    "while True:\n",
    "    threshold1 = cv2.getTrackbarPos('threshold1', name)\n",
    "    threshold2 = cv2.getTrackbarPos('threshold2', name)\n",
    "\n",
    "    canny = cv2.Canny(img,threshold1, threshold2)\n",
    "    #대상 이미지, minValue(하위 임계값), MaxValue(상위 임계값) -> 픽셀 임계값이 200보다 크면 경계선으로 검출. 150이하면 경계선 고려x\n",
    "\n",
    "    cv2.imshow('img',img)\n",
    "    cv2.imshow(name, canny)\n",
    "    \n",
    "    if cv2.waitKey(1) == ord('q'):\n",
    "        break\n",
    "\n",
    "    \n",
    "    \n",
    "cv2.destroyAllWindows()"
   ]
  }
 ],
 "metadata": {
  "kernelspec": {
   "display_name": "Python 3",
   "language": "python",
   "name": "python3"
  },
  "language_info": {
   "codemirror_mode": {
    "name": "ipython",
    "version": 3
   },
   "file_extension": ".py",
   "mimetype": "text/x-python",
   "name": "python",
   "nbconvert_exporter": "python",
   "pygments_lexer": "ipython3",
   "version": "3.8.8"
  }
 },
 "nbformat": 4,
 "nbformat_minor": 5
}

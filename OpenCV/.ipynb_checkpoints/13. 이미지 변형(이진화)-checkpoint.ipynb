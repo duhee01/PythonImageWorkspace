{
 "cells": [
  {
   "cell_type": "markdown",
   "id": "2cdb7e05",
   "metadata": {},
   "source": [
    "# 13. 이미지 변형(이진화) "
   ]
  },
  {
   "cell_type": "markdown",
   "id": "3d48d55d",
   "metadata": {},
   "source": [
    "## Threshold\n",
    "- 실행시켜보면 책에 있는 글자들의 색이 다 달라서 모든 글씨를 읽어낼 수 없음.\n",
    "- 따라서 adaptive threshold 를 사용(밑에 설명)"
   ]
  },
  {
   "cell_type": "code",
   "execution_count": 6,
   "id": "d9d20abb",
   "metadata": {},
   "outputs": [],
   "source": [
    "import cv2\n",
    "img  = cv2.imread('book.jpg', cv2.IMREAD_GRAYSCALE)\n",
    "\n",
    "ret, binary = cv2.threshold(img, 127, 255, cv2.THRESH_BINARY)\n",
    "#127- 임계값 , 255 -> 127보다 이미지값이 클 때, (255)흰색으로 정의함. 작으면 검은색으로 바꿈\n",
    "\n",
    " \n",
    "cv2.imshow('img.',img)\n",
    "cv2.imshow('binary.',binary)\n",
    "\n",
    "cv2.waitKey(0)\n",
    "cv2.destroyAllWindows()"
   ]
  },
  {
   "cell_type": "markdown",
   "id": "58c79e16",
   "metadata": {},
   "source": [
    "## Trackbar (값 변화에 따른 변형 확인)"
   ]
  },
  {
   "cell_type": "code",
   "execution_count": 2,
   "id": "a1262b20",
   "metadata": {},
   "outputs": [
    {
     "name": "stdout",
     "output_type": "stream",
     "text": [
      "127\n"
     ]
    }
   ],
   "source": [
    "import cv2\n",
    "\n",
    "def empty(pos):\n",
    "    print(pos)\n",
    "    pass\n",
    "\n",
    "img = cv2.imread('book.jpg', cv2.IMREAD_GRAYSCALE)\n",
    "\n",
    "name = 'Trackbar'\n",
    "cv2.namedWindow(name)\n",
    "\n",
    "cv2.createTrackbar('threshold', name, 127, 255, empty)\n",
    "# bar 이름, 창의 이름, 초기값, 최대값, 이벤트 처리\n",
    "\n",
    "while True:\n",
    "    thresh = cv2.getTrackbarPos('threshold', name)  #현재위치값을 받는 함수\n",
    "    #bar이름, 창의 이름\n",
    "    ret, binary = cv2.threshold(img, thresh, 255, cv2.THRESH_BINARY)\n",
    "    #bar를 이동시킬때, thresh 값을 받아서 변경해줌(실시간으로)\n",
    "    \n",
    "    if not ret:\n",
    "        break\n",
    "        \n",
    "    cv2.imshow(name, binary)\n",
    "    if cv2.waitKey(1) == ord('q'):\n",
    "        break\n",
    "cv2.destroyAllWindows()"
   ]
  },
  {
   "cell_type": "markdown",
   "id": "56df7cfb",
   "metadata": {},
   "source": [
    "### 그림판에서 제작한 이미지로 확인"
   ]
  },
  {
   "cell_type": "code",
   "execution_count": 3,
   "id": "56ac77cf",
   "metadata": {},
   "outputs": [
    {
     "name": "stdout",
     "output_type": "stream",
     "text": [
      "127\n"
     ]
    }
   ],
   "source": [
    "import cv2\n",
    "\n",
    "def empty(pos):\n",
    "    print(pos)\n",
    "    pass\n",
    "\n",
    "img = cv2.imread('threshhold.png', cv2.IMREAD_GRAYSCALE)\n",
    "\n",
    "name = 'Trackbar'\n",
    "cv2.namedWindow(name)\n",
    "\n",
    "cv2.createTrackbar('threshold', name, 127, 255, empty)\n",
    "# bar 이름, 창의 이름, 초기값, 최대값, 이벤트 처리\n",
    "\n",
    "while True:\n",
    "    thresh = cv2.getTrackbarPos('threshold', name)  #현재위치값을 받는 함수\n",
    "    #bar이름, 창의 이름\n",
    "    ret, binary = cv2.threshold(img, thresh, 255, cv2.THRESH_BINARY)\n",
    "    #bar를 이동시킬때, thresh 값을 받아서 변경해줌(실시간으로)\n",
    "    \n",
    "    if not ret:\n",
    "        break\n",
    "        \n",
    "    cv2.imshow(name, binary)\n",
    "    cv2.imshow('threshhold',img)\n",
    "    if cv2.waitKey(1) == ord('q'):\n",
    "        break\n",
    "cv2.destroyAllWindows()"
   ]
  },
  {
   "cell_type": "code",
   "execution_count": 5,
   "id": "403fca4d",
   "metadata": {},
   "outputs": [],
   "source": [
    "import cv2\n",
    "img  = cv2.imread('threshhold.png', cv2.IMREAD_GRAYSCALE)\n",
    "\n",
    "ret, binary1 = cv2.threshold(img, 0, 255, cv2.THRESH_BINARY) #진한회색, 밝은흰색, 흰색 모두 흰색처리\n",
    "ret, binary2 = cv2.threshold(img, 127, 255, cv2.THRESH_BINARY) # 밝은회색, 흰색만\n",
    "ret, binary3 = cv2.threshold(img, 195, 255, cv2.THRESH_BINARY) #흰색만 \n",
    "\n",
    " \n",
    "cv2.imshow('img.',img)\n",
    "cv2.imshow('binary1.',binary1)\n",
    "cv2.imshow('binary2.',binary2)\n",
    "cv2.imshow('binary3.',binary3)\n",
    "\n",
    "cv2.waitKey(0)\n",
    "cv2.destroyAllWindows()"
   ]
  },
  {
   "cell_type": "markdown",
   "id": "e1a3b164",
   "metadata": {},
   "source": [
    "## Adaptive Threshold\n",
    "이미지를 작은 영역으로 나누어서 임계치 적용 \n",
    "(조명이 일정하지 않아 이미지의 밝기가 일정하지 않을때)"
   ]
  },
  {
   "cell_type": "code",
   "execution_count": 2,
   "id": "f4a59495",
   "metadata": {},
   "outputs": [
    {
     "name": "stdout",
     "output_type": "stream",
     "text": [
      "25\n",
      "3\n"
     ]
    }
   ],
   "source": [
    "import cv2\n",
    "\n",
    "def empty(pos):\n",
    "    print(pos)\n",
    "    pass\n",
    "\n",
    "img = cv2.imread('book.jpg', cv2.IMREAD_GRAYSCALE)\n",
    "\n",
    "name = 'Trackbar'\n",
    "cv2.namedWindow(name)\n",
    " \n",
    "cv2.createTrackbar('block_size', name, 25, 100, empty) #홀수만 가능. 1보다큰 큰 값\n",
    "cv2.createTrackbar('c', name, 3, 10, empty) #일반적으로 양수의 값을 사용함.\n",
    "\n",
    "while True:\n",
    "    block_size = cv2.getTrackbarPos('block_size', name)  \n",
    "    c = cv2.getTrackbarPos('c',name)\n",
    "    if block_size <= 1:  #1 이하면 3으로\n",
    "        block_size = 3\n",
    "        \n",
    "    if block_size % 2 == 0: #짝수이면 홀수로\n",
    "        block_size += 1\n",
    "    \n",
    "    binary = cv2.adaptiveThreshold(img, 255, cv2.ADAPTIVE_THRESH_MEAN_C, cv2.THRESH_BINARY, block_size, c)\n",
    "    \n",
    "\n",
    "    cv2.imshow(name, binary)\n",
    "    if cv2.waitKey(1) == ord('q'):\n",
    "        break\n",
    "cv2.destroyAllWindows()"
   ]
  },
  {
   "cell_type": "markdown",
   "id": "792ac47b",
   "metadata": {},
   "source": [
    "## 오츠 알고리즘 "
   ]
  },
  {
   "cell_type": "markdown",
   "id": "175a0417",
   "metadata": {},
   "source": [
    "Bimodal Image에 사용하기 적함\n",
    "최적의 임계치 값을 자동으로 찾는 것임."
   ]
  },
  {
   "cell_type": "code",
   "execution_count": 5,
   "id": "3e6eac2b",
   "metadata": {},
   "outputs": [
    {
     "name": "stdout",
     "output_type": "stream",
     "text": [
      "otsu threshold 90.0\n"
     ]
    }
   ],
   "source": [
    "import cv2\n",
    "img  = cv2.imread('book.jpg', cv2.IMREAD_GRAYSCALE)\n",
    "\n",
    "ret, binary = cv2.threshold(img, 127, 255, cv2.THRESH_BINARY)\n",
    "ret, otsu = cv2.threshold(img, -1, 255, cv2.THRESH_BINARY | cv2.THRESH_OTSU)\n",
    "print('otsu threshold', ret)\n",
    "\n",
    "cv2.imshow('img.',img)\n",
    "cv2.imshow('binary.',binary)\n",
    "cv2.imshow('otsu.',otsu)\n",
    "cv2.waitKey(0) \n",
    "cv2.destroyAllWindows()\n"
   ]
  }
 ],
 "metadata": {
  "kernelspec": {
   "display_name": "Python 3",
   "language": "python",
   "name": "python3"
  },
  "language_info": {
   "codemirror_mode": {
    "name": "ipython",
    "version": 3
   },
   "file_extension": ".py",
   "mimetype": "text/x-python",
   "name": "python",
   "nbconvert_exporter": "python",
   "pygments_lexer": "ipython3",
   "version": "3.8.8"
  }
 },
 "nbformat": 4,
 "nbformat_minor": 5
}

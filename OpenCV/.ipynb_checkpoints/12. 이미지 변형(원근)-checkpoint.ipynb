{
 "cells": [
  {
   "cell_type": "markdown",
   "id": "cd00b599",
   "metadata": {},
   "source": [
    "# 12. 이미지 변형(원근) "
   ]
  },
  {
   "cell_type": "markdown",
   "id": "aa47dee1",
   "metadata": {},
   "source": [
    "## 사다리꼴 이미지 펼치기 "
   ]
  },
  {
   "cell_type": "code",
   "execution_count": 1,
   "id": "4d7f8ffd",
   "metadata": {},
   "outputs": [],
   "source": [
    "import cv2\n",
    "import numpy as np\n",
    "\n",
    "img = cv2.imread('newspaper.jpg')\n",
    "\n",
    "width, height =  640, 240  #가로 ,세로크기로 결과물 출력\n",
    "\n",
    "src = np.array([ [511,352], [1008, 345], [1122, 584], [455, 594] ], dtype = np.float32) #input 4개 지점\n",
    "dst = np.array([ [0,0], [width, 0], [width, height], [0, height] ], dtype = np.float32) #ouput 4개 지점\n",
    "#좌상, 우상, 우하, 좌하 (시계방향으로 4지점 정의)\n",
    "\n",
    "matrix = cv2.getPerspectiveTransform(src,dst) #Matrix 얻어옴\n",
    "result = cv2.warpPerspective(img, matrix, (width, height)) #matrix대로 변환함(행렬값 받아서 최종)\n",
    "\n",
    "cv2.imshow('img',img)\n",
    "cv2.imshow('result',result)\n",
    "\n",
    "cv2.waitKey(0)\n",
    "cv2.destroyAllWindows()"
   ]
  },
  {
   "cell_type": "markdown",
   "id": "1e42d27f",
   "metadata": {},
   "source": [
    "## 회전된 이미지 올바로 세우기 "
   ]
  },
  {
   "cell_type": "code",
   "execution_count": 1,
   "id": "50028d96",
   "metadata": {},
   "outputs": [],
   "source": [
    "import cv2\n",
    "import numpy as np\n",
    "\n",
    "img = cv2.imread('poker.jpg')\n",
    "\n",
    "width, height =  530, 710 \n",
    "\n",
    "src = np.array([ [702, 143], [1133, 414], [726, 1007], [276, 700] ], dtype = np.float32) #input 4개 지점\n",
    "dst = np.array([ [0,0], [width, 0], [width, height], [0, height] ], dtype = np.float32) #ouput 4개 지점\n",
    "#좌상, 우상, 우하, 좌하 (시계방향으로 4지점 정의)\n",
    "\n",
    "matrix = cv2.getPerspectiveTransform(src,dst) #Matrix 얻어옴\n",
    "result = cv2.warpPerspective(img, matrix, (width, height)) #matrix대로 변환함(행렬값 받아서 최종)\n",
    "\n",
    "cv2.imshow('img',img)\n",
    "cv2.imshow('result',result)\n",
    "\n",
    "cv2.waitKey(0)\n",
    "cv2.destroyAllWindows()"
   ]
  },
  {
   "cell_type": "markdown",
   "id": "7a007e56",
   "metadata": {},
   "source": [
    "## 미니 프로젝트 : 반자동 문서 스캐너 "
   ]
  },
  {
   "cell_type": "markdown",
   "id": "fb8b9c3f",
   "metadata": {},
   "source": [
    "### 마우스 이벤트 등록 "
   ]
  },
  {
   "cell_type": "code",
   "execution_count": 20,
   "id": "4ec16ceb",
   "metadata": {},
   "outputs": [
    {
     "name": "stdout",
     "output_type": "stream",
     "text": [
      "왼쪽버튼 Down\n",
      "210 389\n",
      "왼쪽버튼 Up\n",
      "210 389\n",
      "오른쪽버튼 Down\n",
      "왼쪽버튼 Down\n",
      "359 413\n",
      "왼쪽버튼 Up\n",
      "359 413\n",
      "왼쪽버튼 Down\n",
      "358 415\n",
      "왼쪽버튼 Up\n",
      "358 415\n",
      "마우스 더블클릭\n",
      "왼쪽버튼 Up\n",
      "358 415\n",
      "왼쪽버튼 Down\n",
      "383 422\n",
      "왼쪽버튼 Up\n",
      "383 422\n"
     ]
    }
   ],
   "source": [
    "import cv2\n",
    "import numpy as np\n",
    "\n",
    "def mouse_handler(event, x, y, flags, param):\n",
    "    if event == cv2.EVENT_LBUTTONDOWN:  #마우스 왼쪽 버튼 누름(DOWN)\n",
    "        print('왼쪽버튼 Down')\n",
    "        print(x,y)\n",
    "    elif event == cv2.EVENT_LBUTTONUP:  #마우스 왼쪽 버튼 뗌(UP)\n",
    "        print('왼쪽버튼 Up')\n",
    "        print(x,y)\n",
    "    elif event == cv2.EVENT_LBUTTONDBLCLK:  #마우스 왼쪽 버튼 더블 클릭\n",
    "        print('마우스 더블클릭')\n",
    "#     elif event == cv2.EVENT_MOUSEMOVE: #마우스 이동\n",
    "#         print('마우스 이동')\n",
    "    elif event == cv2.EVENT_RBUTTONDOWN: #오른쪽 버튼 DOWN\n",
    "        print('오른쪽버튼 Down')\n",
    "         \n",
    "\n",
    "img = cv2.imread('poker.jpg')\n",
    "img = cv2.resize(img, (800, 700))  #이미지 크기조정\n",
    "\n",
    "cv2.namedWindow('img') #img 란 이름의 윈도우를 먼저 만들어 두는 것. 여기에 마우스 이벤트를 처리하기 위한 핸들러 적용\n",
    "cv2.setMouseCallback('img',mouse_handler)\n",
    "cv2.imshow('img',img)\n",
    "cv2.waitKey(0)\n",
    "cv2.destroyAllWindows()"
   ]
  },
  {
   "cell_type": "markdown",
   "id": "145b1afb",
   "metadata": {},
   "source": [
    "### 프로젝트 "
   ]
  },
  {
   "cell_type": "code",
   "execution_count": 32,
   "id": "659d079a",
   "metadata": {},
   "outputs": [
    {
     "name": "stdout",
     "output_type": "stream",
     "text": [
      "[(444, 102)]\n",
      "[(444, 102), (702, 281)]\n",
      "[(444, 102), (702, 281), (448, 684)]\n",
      "[(444, 102), (702, 281), (448, 684), (187, 483)]\n"
     ]
    }
   ],
   "source": [
    "import cv2\n",
    "import numpy as np\n",
    "\n",
    "point_list = [] \n",
    "COLOR = (255,0,255) #pink\n",
    "THICKNESS = 3\n",
    "drawing = False #선을 그릴지의 여부를 판단\n",
    "\n",
    "src_img = cv2.imread('poker.jpg')\n",
    "src_img = cv2.resize(img, (800, 700)) \n",
    "\n",
    "\n",
    "def mouse_handler(event, x, y, flags, param): #마우스이벤트 함수\n",
    "    global drawing\n",
    "    \n",
    "    if event == cv2.EVENT_LBUTTONDOWN:  #마우스 왼쪽 버튼을 눌렀을때\n",
    "        drawing = True  #선을 그리기 시작\n",
    "        point_list.append((x, y)) #리스트에 현재누른 좌표 정보가 들어감\n",
    "        \n",
    "        print(point_list)\n",
    "    if drawing:\n",
    "        prev_point = None #직선의 시작점.\n",
    "        for point in point_list:\n",
    "            cv2.circle(src_img, point, 15, COLOR, cv2.FILLED)\n",
    "            if prev_point:\n",
    "                cv2.line(src_img, prev_point, point, COLOR, THICKNESS, cv2.LINE_AA)\n",
    "            prev_point = point #2,3번째점 포인트 업데이트 해주기\n",
    "    if len(point_list) == 4:\n",
    "        show_result()  #결과출력\n",
    "        \n",
    "    cv2.imshow('img',src_img)\n",
    "\n",
    "def show_result():  #결과출력 함수\n",
    "    width, height =  530, 710    \n",
    "    src = np.float32(point_list)  #네 개의 점을 nparray형식으로 만들어줌\n",
    "    dst = np.array([ [0,0], [width, 0], [width, height], [0, height] ], dtype = np.float32)\n",
    "\n",
    "    matrix = cv2.getPerspectiveTransform(src,dst) \n",
    "    result = cv2.warpPerspective(src_img, matrix, (width, height)) \n",
    "    cv2.imshow('result', result)\n",
    "\n",
    "\n",
    "cv2.namedWindow('img')\n",
    "cv2.setMouseCallback('img',mouse_handler)\n",
    "cv2.imshow('img',src_img)\n",
    "cv2.waitKey(0)\n",
    "cv2.destroyAllWindows()"
   ]
  },
  {
   "cell_type": "code",
   "execution_count": 39,
   "id": "dfa0309b",
   "metadata": {},
   "outputs": [
    {
     "name": "stdout",
     "output_type": "stream",
     "text": [
      "[(442, 109)]\n",
      "[(442, 109), (710, 286)]\n",
      "[(442, 109), (710, 286), (453, 685)]\n",
      "[(442, 109), (710, 286), (453, 685), (168, 477)]\n"
     ]
    }
   ],
   "source": [
    "import cv2\n",
    "import numpy as np\n",
    "\n",
    "point_list = [] \n",
    "COLOR = (255,0,255) #pink\n",
    "THICKNESS = 3\n",
    "drawing = False #선을 그릴지의 여부를 판단\n",
    "\n",
    "src_img = cv2.imread('poker.jpg')\n",
    "src_img = cv2.resize(img, (800, 700)) \n",
    "\n",
    "\n",
    "def mouse_handler(event, x, y, flags, param): #마우스이벤트 함수\n",
    "    global drawing\n",
    "    dst_img = src_img.copy()  #계속 그어지는 현상 x \n",
    "    if event == cv2.EVENT_LBUTTONDOWN:  #마우스 왼쪽 버튼을 눌렀을때\n",
    "        drawing = True  #선을 그리기 시작\n",
    "        point_list.append((x, y)) #리스트에 현재누른 좌표 정보가 들어감\n",
    "        \n",
    "        print(point_list)\n",
    "    if drawing:\n",
    "        prev_point = None #직선의 시작점.\n",
    "        for point in point_list:\n",
    "            cv2.circle(dst_img, point, 15, COLOR, cv2.FILLED)\n",
    "            if prev_point:\n",
    "                cv2.line(dst_img, prev_point, point, COLOR, THICKNESS, cv2.LINE_AA)\n",
    "            prev_point = point #2,3번째점 포인트 업데이트 해주기\n",
    "        #현재 마우스 위치 마지막 지점까지 선을 하나 더 그음\n",
    "        next_point = (x, y)\n",
    "        if len(point_list) == 4:\n",
    "            show_result()  #결과출력\n",
    "            next_point = point_list[0]  #첫 번째 클릭한 지점\n",
    "        cv2.line(dst_img, next_point, point, COLOR, THICKNESS, cv2.LINE_AA)\n",
    "            \n",
    "        \n",
    "    cv2.imshow('img',dst_img)\n",
    "\n",
    "def show_result():  #결과출력 함수\n",
    "    width, height =  530, 710    \n",
    "    src = np.float32(point_list)  #네 개의 점을 nparray형식으로 만들어줌\n",
    "    dst = np.array([ [0,0], [width, 0], [width, height], [0, height] ], dtype = np.float32)\n",
    "\n",
    "    matrix = cv2.getPerspectiveTransform(src,dst) \n",
    "    result = cv2.warpPerspective(src_img, matrix, (width, height)) \n",
    "    cv2.imshow('result', result)\n",
    "\n",
    "\n",
    "cv2.namedWindow('img')\n",
    "cv2.setMouseCallback('img',mouse_handler)\n",
    "cv2.imshow('img',src_img)\n",
    "cv2.waitKey(0)\n",
    "cv2.destroyAllWindows()"
   ]
  },
  {
   "cell_type": "code",
   "execution_count": null,
   "id": "45be356b",
   "metadata": {},
   "outputs": [],
   "source": []
  }
 ],
 "metadata": {
  "kernelspec": {
   "display_name": "Python 3",
   "language": "python",
   "name": "python3"
  },
  "language_info": {
   "codemirror_mode": {
    "name": "ipython",
    "version": 3
   },
   "file_extension": ".py",
   "mimetype": "text/x-python",
   "name": "python",
   "nbconvert_exporter": "python",
   "pygments_lexer": "ipython3",
   "version": "3.8.8"
  }
 },
 "nbformat": 4,
 "nbformat_minor": 5
}

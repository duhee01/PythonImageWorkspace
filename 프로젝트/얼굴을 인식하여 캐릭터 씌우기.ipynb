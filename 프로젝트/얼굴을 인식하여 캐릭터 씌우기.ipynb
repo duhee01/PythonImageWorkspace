{
 "cells": [
  {
   "cell_type": "markdown",
   "id": "d798ed5b",
   "metadata": {},
   "source": [
    "# 프로젝트 : 얼굴을 인식하여 캐릭터 씌우기 "
   ]
  },
  {
   "cell_type": "markdown",
   "id": "37136acc",
   "metadata": {},
   "source": [
    "## Face Detection vs Face Recognition "
   ]
  },
  {
   "cell_type": "markdown",
   "id": "c79cc9c5",
   "metadata": {},
   "source": [
    "얼굴 인식 vs 누구의 얼굴인지 알아내기"
   ]
  },
  {
   "cell_type": "markdown",
   "id": "bd649c41",
   "metadata": {},
   "source": [
    "패키지 설치\n",
    "> pip install mediapipe"
   ]
  },
  {
   "cell_type": "code",
   "execution_count": 3,
   "id": "a1302a44",
   "metadata": {},
   "outputs": [],
   "source": [
    "import mediapipe as mp"
   ]
  },
  {
   "cell_type": "code",
   "execution_count": 13,
   "id": "1201cfdd",
   "metadata": {},
   "outputs": [],
   "source": [
    "import cv2\n",
    "import mediapipe as mp\n",
    "\n",
    "def overlay(image, x, y, w, h, overlay_image): #대상 이미지(3채녈), x, y좌표, width, height, 덮어씌울 이미지(4채널)\n",
    "    alpha = overlay_image[:,:,3] #BGRA\n",
    "    mask_image = alpha / 255 # 0~255-> 255로 나누기 : 0에서 1사이 값. { 1 : 불투명, 0 : 투명}\n",
    "    #(255, 255) - > (1,1)\n",
    "    #(255, 0) - > (1,0)\n",
    "    #1 - mask_image : ?\n",
    "    #(0,0)\n",
    "    #(0,1)     => 반전이됨.(위에랑) (1, 0.3) 이면 (0, 0.7)로됨.\n",
    "    \n",
    "    for c in range(0,3): #channel BGR\n",
    "        image[y-h:y+h, x-w:x+w, c] = (overlay_image[:,:,c] * mask_image) + ( image[y-h:y+h, x-w:x+w, c] * (1 - mask_image))\n",
    "    \n",
    "#얼굴을 찾고, 찾은 얼굴에 표시를 해주기 위한 변수 정의\n",
    "mp_face_detection = mp.solutions.face_detection #얼굴 검출을 위한 모듈 사용\n",
    "mp_drawing = mp.solutions.drawing_utils # 얼굴의 특징을 그리기 위한 모듈 사용\n",
    "\n",
    "#동영상 파일 열기\n",
    "cap = cv2.VideoCapture('face_video.mp4')\n",
    "\n",
    "#이미지 불러오기\n",
    "image_right_eye = cv2.imread('right_eyes.png',cv2.IMREAD_UNCHANGED)  #100,100\n",
    "image_left_eye = cv2.imread('left_eyes.png',cv2.IMREAD_UNCHANGED)    #100,100\n",
    "image_nose = cv2.imread('nose_.png',cv2.IMREAD_UNCHANGED)            #300,100 (가로, 세로)  \n",
    "\n",
    "\n",
    "with mp_face_detection.FaceDetection(model_selection=0, min_detection_confidence= 0.7) as face_detection:\n",
    "    while cap.isOpened():\n",
    "        success, image = cap.read()\n",
    "        if not success:\n",
    "            break\n",
    "\n",
    "        # To improve performance, optionally mark the image as not writeable to\n",
    "        # pass by reference.\n",
    "        image.flags.writeable = False\n",
    "        image = cv2.cvtColor(image, cv2.COLOR_BGR2RGB)\n",
    "        results = face_detection.process(image)\n",
    "\n",
    "        # Draw the face detection annotations on the image.\n",
    "        image.flags.writeable = True\n",
    "        image = cv2.cvtColor(image, cv2.COLOR_RGB2BGR)\n",
    "        if results.detections:\n",
    "            for detection in results.detections:\n",
    "                # mp_drawing.draw_detection(image, detection) 점찍기\n",
    "                # print(detection)\n",
    "                \n",
    "                # 특정 위치 가져오기\n",
    "                keypoints =  detection.location_data.relative_keypoints\n",
    "                right_eye = keypoints[0] #오른쪽 눈\n",
    "                left_eye = keypoints[1] #왼쪽 눈 ( * 이미지크기 해주면 좌표정보나옴)\n",
    "                nose_tip = keypoints[2] #코 끝부분\n",
    "                \n",
    "                \n",
    "                h, w, _ = image.shape  #height, width, channel : 이미지로부터 세로, 가로 크기 가져옴\n",
    "                right_eye = (int(right_eye.x * w)-20, int(right_eye.y * h)-100) #이미지 내에서 실제 좌표(x,y)\n",
    "                left_eye = (int(left_eye.x * w)+20, int(left_eye.y * h)-100)\n",
    "                nose_tip = (int(nose_tip.x * w), int(nose_tip.y * h))\n",
    "                # 양 눈에 동그라미 그리기\n",
    "                #cv2.circle(image, right_eye, 50 ,(255, 0, 0), 10, cv2.LINE_AA) #파란색으로 동그라미그리기\n",
    "                #cv2.circle(image, left_eye, 50 ,(0, 255, 0), 10, cv2.LINE_AA) #초록색으로 동그라미그리기\n",
    "                #cv2.circle(image, nose_tip, 75 ,(0, 255, 255), 10, cv2.LINE_AA) #초록색으로 동그라미그리기\n",
    "                \n",
    "                # 각 특징에다가 이미지 그리기\n",
    "                #image_right_eye.shape\n",
    "                #image[right_eye[1]-50:right_eye[1]+50, right_eye[0]-50:right_eye[0]+50] = image_right_eye\n",
    "                #image[left_eye[1]-50:left_eye[1]+50, left_eye[0]-50:left_eye[0]+50] = image_left_eye\n",
    "                #image[nose_tip[1]-50:nose_tip[1]+50, nose_tip[0]-150:nose_tip[0]+150] = image_nose\n",
    "                \n",
    "                #image, x, y, w, h, overlay_image\n",
    "                overlay(image, *right_eye, 50, 50, image_right_eye )\n",
    "                overlay(image, *left_eye, 50, 50, image_left_eye )\n",
    "                overlay(image, *nose_tip, 150, 50, image_nose )\n",
    "                \n",
    "                \n",
    "        # Flip the image horizontally for a selfie-view display.\n",
    "        cv2.imshow('MediaPipe Face Detection',cv2.resize(image, None, fx = 0.5, fy = 0.5))\n",
    "        if cv2.waitKey(5) == ord('q'):\n",
    "            break\n",
    "cap.release()\n",
    "cv2.destroyAllWindows()"
   ]
  },
  {
   "cell_type": "markdown",
   "id": "aba952e6",
   "metadata": {},
   "source": [
    "노트북 카메라사용"
   ]
  },
  {
   "cell_type": "code",
   "execution_count": null,
   "id": "2851d6c2",
   "metadata": {},
   "outputs": [],
   "source": [
    "import cv2\n",
    "import mediapipe as mp\n",
    "mp_face_detection = mp.solutions.face_detection\n",
    "mp_drawing = mp.solutions.drawing_utils\n",
    "\n",
    "\n",
    "\n",
    "cap = cv2.VideoCapture(0)\n",
    "with mp_face_detection.FaceDetection(\n",
    "    model_selection=0, min_detection_confidence=0.5) as face_detection:\n",
    "    while cap.isOpened():\n",
    "        success, image = cap.read()\n",
    "        if not success:\n",
    "            print(\"Ignoring empty camera frame.\")\n",
    "            # If loading a video, use 'break' instead of 'continue'.\n",
    "            continue\n",
    "\n",
    "        # To improve performance, optionally mark the image as not writeable to\n",
    "        # pass by reference.\n",
    "        image.flags.writeable = False\n",
    "        image = cv2.cvtColor(image, cv2.COLOR_BGR2RGB)\n",
    "        results = face_detection.process(image)\n",
    "\n",
    "        # Draw the face detection annotations on the image.\n",
    "        image.flags.writeable = True\n",
    "        image = cv2.cvtColor(image, cv2.COLOR_RGB2BGR)\n",
    "        if results.detections:\n",
    "            for detection in results.detections:\n",
    "                mp_drawing.draw_detection(image, detection)\n",
    "        # Flip the image horizontally for a selfie-view display.\n",
    "        #좌우반전시켜서 셀카로 보여줌(flip)\n",
    "        cv2.imshow('MediaPipe Face Detection', cv2.flip(image, 1))\n",
    "        if cv2.waitKey(5) == ord('q'):\n",
    "            break\n",
    "cap.release()\n",
    "\n",
    "cv2.destroyAllWindows()"
   ]
  },
  {
   "cell_type": "code",
   "execution_count": 9,
   "id": "012f677c",
   "metadata": {},
   "outputs": [
    {
     "data": {
      "text/plain": [
       "(100, 100, 4)"
      ]
     },
     "execution_count": 9,
     "metadata": {},
     "output_type": "execute_result"
    }
   ],
   "source": [
    "import cv2\n",
    "image_right_eye = cv2.imread('right_eyes.png', cv2.IMREAD_UNCHANGED) #투명도까지 가져오기\n",
    "image_right_eye.shape"
   ]
  },
  {
   "cell_type": "code",
   "execution_count": null,
   "id": "364a3332",
   "metadata": {},
   "outputs": [],
   "source": []
  },
  {
   "cell_type": "code",
   "execution_count": null,
   "id": "83997ecb",
   "metadata": {},
   "outputs": [],
   "source": []
  },
  {
   "cell_type": "code",
   "execution_count": null,
   "id": "d2c5320e",
   "metadata": {},
   "outputs": [],
   "source": []
  },
  {
   "cell_type": "code",
   "execution_count": null,
   "id": "66935a62",
   "metadata": {},
   "outputs": [],
   "source": []
  },
  {
   "cell_type": "code",
   "execution_count": null,
   "id": "ff5e9db0",
   "metadata": {},
   "outputs": [],
   "source": []
  }
 ],
 "metadata": {
  "kernelspec": {
   "display_name": "Python 3",
   "language": "python",
   "name": "python3"
  },
  "language_info": {
   "codemirror_mode": {
    "name": "ipython",
    "version": 3
   },
   "file_extension": ".py",
   "mimetype": "text/x-python",
   "name": "python",
   "nbconvert_exporter": "python",
   "pygments_lexer": "ipython3",
   "version": "3.8.8"
  }
 },
 "nbformat": 4,
 "nbformat_minor": 5
}
